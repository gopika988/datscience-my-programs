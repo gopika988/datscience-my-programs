{
  "nbformat": 4,
  "nbformat_minor": 0,
  "metadata": {
    "colab": {
      "name": "colorlist",
      "provenance": [],
      "collapsed_sections": [],
      "authorship_tag": "ABX9TyMCLZawdb5cFX0OssfSyCi5",
      "include_colab_link": true
    },
    "kernelspec": {
      "name": "python3",
      "display_name": "Python 3"
    },
    "language_info": {
      "name": "python"
    }
  },
  "cells": [
    {
      "cell_type": "markdown",
      "metadata": {
        "id": "view-in-github",
        "colab_type": "text"
      },
      "source": [
        "<a href=\"https://colab.research.google.com/github/gopika988/datscience-my-programs/blob/main/colorlist.ipynb\" target=\"_parent\"><img src=\"https://colab.research.google.com/assets/colab-badge.svg\" alt=\"Open In Colab\"/></a>"
      ]
    },
    {
      "cell_type": "code",
      "metadata": {
        "colab": {
          "base_uri": "https://localhost:8080/"
        },
        "id": "Ywej7UzxjlFr",
        "outputId": "801323e7-0ce6-4d80-d51a-1aaa6e59bf48"
      },
      "source": [
        "color=[\"Red\",\"Green\",\"Orange\",\"Yellow\",\"White\"]\n",
        "print(color[0],color[-1])"
      ],
      "execution_count": null,
      "outputs": [
        {
          "output_type": "stream",
          "name": "stdout",
          "text": [
            "Red White\n"
          ]
        }
      ]
    }
  ]
}