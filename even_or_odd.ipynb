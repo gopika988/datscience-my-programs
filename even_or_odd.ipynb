{
  "nbformat": 4,
  "nbformat_minor": 0,
  "metadata": {
    "colab": {
      "name": "even or odd",
      "provenance": [],
      "collapsed_sections": [],
      "authorship_tag": "ABX9TyM/4pjYp/WONdyjLCTsftkE",
      "include_colab_link": true
    },
    "kernelspec": {
      "name": "python3",
      "display_name": "Python 3"
    },
    "language_info": {
      "name": "python"
    }
  },
  "cells": [
    {
      "cell_type": "markdown",
      "metadata": {
        "id": "view-in-github",
        "colab_type": "text"
      },
      "source": [
        "<a href=\"https://colab.research.google.com/github/gopika988/datscience-my-programs/blob/main/even_or_odd.ipynb\" target=\"_parent\"><img src=\"https://colab.research.google.com/assets/colab-badge.svg\" alt=\"Open In Colab\"/></a>"
      ]
    },
    {
      "cell_type": "code",
      "metadata": {
        "colab": {
          "base_uri": "https://localhost:8080/"
        },
        "id": "hkKm73bnZPks",
        "outputId": "c9e918fa-a0c7-45c8-c2b0-475655edf581"
      },
      "source": [
        "a=int(input(\"enter the number\"));\n",
        "if a%2==0 :\n",
        "  print(a,\"is even\");\n",
        "else :\n",
        "  print(a,\"is odd\")"
      ],
      "execution_count": null,
      "outputs": [
        {
          "output_type": "stream",
          "name": "stdout",
          "text": [
            "enter the number2\n",
            "2 is even\n"
          ]
        }
      ]
    }
  ]
}