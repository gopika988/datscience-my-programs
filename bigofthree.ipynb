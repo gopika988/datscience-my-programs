{
  "nbformat": 4,
  "nbformat_minor": 0,
  "metadata": {
    "colab": {
      "name": "bigofthree",
      "provenance": [],
      "collapsed_sections": [],
      "authorship_tag": "ABX9TyPuqBU6d6SzdoH+Qod3UhdN",
      "include_colab_link": true
    },
    "kernelspec": {
      "name": "python3",
      "display_name": "Python 3"
    },
    "language_info": {
      "name": "python"
    }
  },
  "cells": [
    {
      "cell_type": "markdown",
      "metadata": {
        "id": "view-in-github",
        "colab_type": "text"
      },
      "source": [
        "<a href=\"https://colab.research.google.com/github/gopika988/datscience-my-programs/blob/main/bigofthree.ipynb\" target=\"_parent\"><img src=\"https://colab.research.google.com/assets/colab-badge.svg\" alt=\"Open In Colab\"/></a>"
      ]
    },
    {
      "cell_type": "code",
      "metadata": {
        "colab": {
          "base_uri": "https://localhost:8080/"
        },
        "id": "f5z6u9EYW4my",
        "outputId": "cb96df1c-b3ee-4cdc-a1e4-cf0c92aad5ed"
      },
      "source": [
        "a=int(input(\"enter the first number\"));\n",
        "b=int(input(\"enter the second number\"));\n",
        "c=int(input(\"enter the third number\"));\n",
        "big=max(a,b,c)\n",
        "print(\"largest number is\",big);"
      ],
      "execution_count": null,
      "outputs": [
        {
          "output_type": "stream",
          "name": "stdout",
          "text": [
            "enter the first number3\n",
            "enter the second number5\n",
            "enter the third number6\n",
            "largest number is 6\n"
          ]
        }
      ]
    }
  ]
}