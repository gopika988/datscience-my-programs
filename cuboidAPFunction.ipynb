{
  "nbformat": 4,
  "nbformat_minor": 0,
  "metadata": {
    "colab": {
      "name": "cuboidAPFunction",
      "provenance": [],
      "collapsed_sections": [],
      "authorship_tag": "ABX9TyMcl6QbkVjSVx/efsYixfLR",
      "include_colab_link": true
    },
    "kernelspec": {
      "name": "python3",
      "display_name": "Python 3"
    },
    "language_info": {
      "name": "python"
    }
  },
  "cells": [
    {
      "cell_type": "markdown",
      "metadata": {
        "id": "view-in-github",
        "colab_type": "text"
      },
      "source": [
        "<a href=\"https://colab.research.google.com/github/gopika988/datscience-my-programs/blob/main/cuboidAPFunction.ipynb\" target=\"_parent\"><img src=\"https://colab.research.google.com/assets/colab-badge.svg\" alt=\"Open In Colab\"/></a>"
      ]
    },
    {
      "cell_type": "code",
      "metadata": {
        "id": "cVp_-pOnrKlY"
      },
      "source": [
        "#area of cuboid\n",
        "def Acuboid(a):\n",
        "    result=6*a*a\n",
        "    return result\n",
        "\n",
        "#perimeter of cuboid\n",
        "def Pcuboid(l,b,h):\n",
        "    result=4*(l+b+h)\n",
        "    return result"
      ],
      "execution_count": null,
      "outputs": []
    }
  ]
}