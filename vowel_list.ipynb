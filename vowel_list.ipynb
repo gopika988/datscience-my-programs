{
  "nbformat": 4,
  "nbformat_minor": 0,
  "metadata": {
    "colab": {
      "name": "vowel list",
      "provenance": [],
      "collapsed_sections": [],
      "authorship_tag": "ABX9TyPT8p9luSUkwOhGh7z4dbdZ",
      "include_colab_link": true
    },
    "kernelspec": {
      "name": "python3",
      "display_name": "Python 3"
    },
    "language_info": {
      "name": "python"
    }
  },
  "cells": [
    {
      "cell_type": "markdown",
      "metadata": {
        "id": "view-in-github",
        "colab_type": "text"
      },
      "source": [
        "<a href=\"https://colab.research.google.com/github/gopika988/datscience-my-programs/blob/main/vowel_list.ipynb\" target=\"_parent\"><img src=\"https://colab.research.google.com/assets/colab-badge.svg\" alt=\"Open In Colab\"/></a>"
      ]
    },
    {
      "cell_type": "code",
      "metadata": {
        "colab": {
          "base_uri": "https://localhost:8080/"
        },
        "id": "g4WyyEzzgta6",
        "outputId": "33c0f8da-8e7a-4116-b8d4-fa90cfd14400"
      },
      "source": [
        "word=input('enter the word:');\n",
        "for letter in word :\n",
        "  if letter in 'aeiou':\n",
        "    print(letter,end=\"\")"
      ],
      "execution_count": null,
      "outputs": [
        {
          "output_type": "stream",
          "name": "stdout",
          "text": [
            "enter the word:male\n",
            "ae"
          ]
        }
      ]
    }
  ]
}