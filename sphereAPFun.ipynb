{
  "nbformat": 4,
  "nbformat_minor": 0,
  "metadata": {
    "colab": {
      "name": "sphereAPFun",
      "provenance": [],
      "collapsed_sections": [],
      "authorship_tag": "ABX9TyOSGtplG0gW5DPS+9EaTSEP",
      "include_colab_link": true
    },
    "kernelspec": {
      "name": "python3",
      "display_name": "Python 3"
    },
    "language_info": {
      "name": "python"
    }
  },
  "cells": [
    {
      "cell_type": "markdown",
      "metadata": {
        "id": "view-in-github",
        "colab_type": "text"
      },
      "source": [
        "<a href=\"https://colab.research.google.com/github/gopika988/datscience-my-programs/blob/main/sphereAPFun.ipynb\" target=\"_parent\"><img src=\"https://colab.research.google.com/assets/colab-badge.svg\" alt=\"Open In Colab\"/></a>"
      ]
    },
    {
      "cell_type": "code",
      "metadata": {
        "id": "SuPSEypPrp_Q"
      },
      "source": [
        "#area and perimeter of sphere fun\n",
        "def Asphere(r):\n",
        "    result=4*3.14*r*r\n",
        "    return result\n",
        "\n",
        "#perimeter fun\n",
        "def Psphere(r):\n",
        "    result=(4/3)*3.14*r*r*r\n",
        "    return result"
      ],
      "execution_count": null,
      "outputs": []
    }
  ]
}