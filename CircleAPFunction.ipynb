{
  "nbformat": 4,
  "nbformat_minor": 0,
  "metadata": {
    "colab": {
      "name": "CircleAPFunction",
      "provenance": [],
      "collapsed_sections": [],
      "authorship_tag": "ABX9TyM7gE6uZ8qmK7GSMrqcVMbb",
      "include_colab_link": true
    },
    "kernelspec": {
      "name": "python3",
      "display_name": "Python 3"
    },
    "language_info": {
      "name": "python"
    }
  },
  "cells": [
    {
      "cell_type": "markdown",
      "metadata": {
        "id": "view-in-github",
        "colab_type": "text"
      },
      "source": [
        "<a href=\"https://colab.research.google.com/github/gopika988/datscience-my-programs/blob/main/CircleAPFunction.ipynb\" target=\"_parent\"><img src=\"https://colab.research.google.com/assets/colab-badge.svg\" alt=\"Open In Colab\"/></a>"
      ]
    },
    {
      "cell_type": "code",
      "metadata": {
        "id": "pQgsHR8fr6sz"
      },
      "source": [
        "#circle area\n",
        "def CArea(r):\n",
        "    result=3.14*r*r\n",
        "    return result\n",
        "\n",
        "#circle perimeter\n",
        "def CPerimetr(r):\n",
        "    result=2*3.14*r\n",
        "    return result"
      ],
      "execution_count": null,
      "outputs": []
    }
  ]
}