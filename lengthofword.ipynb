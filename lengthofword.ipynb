{
  "nbformat": 4,
  "nbformat_minor": 0,
  "metadata": {
    "colab": {
      "name": "lengthofword",
      "provenance": [],
      "authorship_tag": "ABX9TyORvab3DIY6ttJX1gNjjy/A",
      "include_colab_link": true
    },
    "kernelspec": {
      "name": "python3",
      "display_name": "Python 3"
    },
    "language_info": {
      "name": "python"
    }
  },
  "cells": [
    {
      "cell_type": "markdown",
      "metadata": {
        "id": "view-in-github",
        "colab_type": "text"
      },
      "source": [
        "<a href=\"https://colab.research.google.com/github/gopika988/datscience-my-programs/blob/main/lengthofword.ipynb\" target=\"_parent\"><img src=\"https://colab.research.google.com/assets/colab-badge.svg\" alt=\"Open In Colab\"/></a>"
      ]
    },
    {
      "cell_type": "code",
      "metadata": {
        "id": "BE72C3MAlIBU"
      },
      "source": [
        "def longestLength(a):\n",
        "  max1=len(a[0])\n",
        "  temp=a[0]\n",
        "for i in a :\n",
        "if(len(i)>max1):\n",
        "  max1=len(i)\n",
        "  temp=i\n",
        "  print(\"The word with longest length is\",temp,\"and length is\",max1)\n",
        "  a=[\"one\",\"two\",\"third\",\"four\"]\n",
        "  longestLength(a)"
      ],
      "execution_count": null,
      "outputs": []
    }
  ]
}