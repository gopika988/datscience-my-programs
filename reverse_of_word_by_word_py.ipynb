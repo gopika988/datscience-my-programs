{
  "nbformat": 4,
  "nbformat_minor": 0,
  "metadata": {
    "colab": {
      "name": "reverse of word by word.py",
      "provenance": [],
      "collapsed_sections": [],
      "authorship_tag": "ABX9TyPFv8h+o0zT8b3HuOWUdcjX",
      "include_colab_link": true
    },
    "kernelspec": {
      "name": "python3",
      "display_name": "Python 3"
    },
    "language_info": {
      "name": "python"
    }
  },
  "cells": [
    {
      "cell_type": "markdown",
      "metadata": {
        "id": "view-in-github",
        "colab_type": "text"
      },
      "source": [
        "<a href=\"https://colab.research.google.com/github/gopika988/datscience-my-programs/blob/main/reverse_of_word_by_word_py.ipynb\" target=\"_parent\"><img src=\"https://colab.research.google.com/assets/colab-badge.svg\" alt=\"Open In Colab\"/></a>"
      ]
    },
    {
      "cell_type": "code",
      "execution_count": null,
      "metadata": {
        "colab": {
          "base_uri": "https://localhost:8080/"
        },
        "id": "VZlNLZfxffwj",
        "outputId": "250e889a-8899-4129-faee-b6ba3a794ea3"
      },
      "outputs": [
        {
          "output_type": "stream",
          "name": "stdout",
          "text": [
            "beautiful is june\n"
          ]
        }
      ],
      "source": [
        "# Function to reverse words of string \n",
        "  \n",
        "def rev_sentence(sentence): \n",
        "  \n",
        "    # first split the string into words \n",
        "    words = sentence.split(' ') \n",
        "  \n",
        "    # then reverse the split string list and join using space \n",
        "    reverse_sentence = ' '.join(reversed(words)) \n",
        "  \n",
        "    # finally return the joined string \n",
        "    return reverse_sentence \n",
        "  \n",
        "if __name__ == \"__main__\": \n",
        "    input = 'june is beautiful'\n",
        "    print (rev_sentence(input))"
      ]
    }
  ]
}